{
 "cells": [
  {
   "cell_type": "code",
   "execution_count": 811,
   "metadata": {},
   "outputs": [],
   "source": [
    "#Full Name: Akhilesh Kumar\n",
    "#Uplevel Email Address: 2412.akhi.photon@gmail.com\n",
    "#Name of the Problem Statement of Submission: Understanding Networks through Clustering"
   ]
  },
  {
   "cell_type": "markdown",
   "metadata": {
    "id": "tawgZEiu-rx-"
   },
   "source": [
    "Problem Statement:\n",
    "\n",
    "This project aims to harness the power of machine learning techniques to delve into the intricate world of graph analysis, specifically focusing on clustering based on the local properties of nodes. The primary objective is to discern and group nodes within a given graph that exhibit shared structural properties, thus uncovering cohorts of individuals with similar characteristics or interests. This endeavour holds tremendous potential across various domains, be it for targeted marketing endeavours, community detection initiatives, or the deeper comprehension of complex social dynamics."
   ]
  },
  {
   "cell_type": "code",
   "execution_count": 812,
   "metadata": {},
   "outputs": [],
   "source": [
    "#Installing igraph for storing the data in graph structure and performing computations"
   ]
  },
  {
   "cell_type": "code",
   "execution_count": null,
   "metadata": {},
   "outputs": [],
   "source": [
    "#pip install networkx\n",
    "#import igraph as ig\n",
    "#print(ig.__version__)"
   ]
  },
  {
   "cell_type": "code",
   "execution_count": 814,
   "metadata": {},
   "outputs": [],
   "source": [
    "# To make a graph with nodes (chosen randomly from facebook_combined.txt file) and edges connecting nodes"
   ]
  },
  {
   "cell_type": "code",
   "execution_count": 815,
   "metadata": {
    "id": "I6mPd94Hy2zu"
   },
   "outputs": [
    {
     "name": "stdout",
     "output_type": "stream",
     "text": [
      "firstNode: 3\n",
      "lastNode: 7\n",
      "Rows where the Node1 column is between 3 and 7:\n",
      "      Node1  Node2\n",
      "372      3      9\n",
      "373      3     25\n",
      "374      3     26\n",
      "375      3     67\n",
      "376      3     72\n",
      "..     ...    ...\n",
      "428      7    315\n",
      "429      7    322\n",
      "430      7    339\n",
      "431      7    340\n",
      "432      7    347\n",
      "\n",
      "[61 rows x 2 columns]\n",
      "Rows where the Node1 column is between 7 and 12:\n",
      "      Node1  Node2\n",
      "372      3      9\n",
      "373      3     25\n",
      "374      3     26\n",
      "375      3     67\n",
      "376      3     72\n",
      "..     ...    ...\n",
      "428      7    315\n",
      "429      7    322\n",
      "430      7    339\n",
      "431      7    340\n",
      "432      7    347\n",
      "\n",
      "[61 rows x 2 columns]\n"
     ]
    }
   ],
   "source": [
    "import igraph as ig\n",
    "import pandas as pd \n",
    "import random as rand\n",
    "import networkx as nx\n",
    "\n",
    "numberOfNodes = 5 #Kept 5 as each node is connected to multiple nodes and hence want to keep the number of overall nodes small\n",
    "data_file = './Graph_Data/facebook_combined.txt'\n",
    "df = pd.read_csv(data_file,sep=' ', header=None, names=['Node1', 'Node2'])\n",
    "\n",
    "firstNode = rand.choice(range(1,4)) #rand.choice(df['Node1']) #pick random element TODO: Replace with df['Node1']\n",
    "print('firstNode:', firstNode)\n",
    "lastNode = firstNode+(numberOfNodes-1)    #select first numberOfNodes nodes for creating graph\n",
    "print('lastNode:', lastNode)\n",
    "df = df.loc[df['Node1'].between(firstNode, lastNode)]\n",
    "print(f'Rows where the Node1 column is between {firstNode} and {lastNode}:\\n',df)\n",
    "\n",
    "df2 = df.loc[df['Node1'].between(lastNode, lastNode+numberOfNodes)]\n",
    "print(f'Rows where the Node1 column is between {lastNode} and {lastNode+numberOfNodes}:\\n',df)\n",
    "\n",
    "# Convert the DataFrame to a list of tuples\n",
    "edgeTuples = df.to_records(index=False).tolist()\n",
    "\n",
    "edgeTuples2 = df2.to_records(index=False).tolist()\n"
   ]
  },
  {
   "cell_type": "code",
   "execution_count": 816,
   "metadata": {},
   "outputs": [
    {
     "name": "stdout",
     "output_type": "stream",
     "text": [
      "Graph structure using networkx: Graph with 62 nodes and 61 edges\n",
      "Graph structure using networkx: Graph with 20 nodes and 19 edges\n"
     ]
    }
   ],
   "source": [
    "#Print graph structure using networkx\n",
    "nxg = nx.Graph()\n",
    "nxg.add_edges_from(edgeTuples)\n",
    "print(f'Graph structure using networkx: {nxg}')\n",
    "\n",
    "nxg2 = nx.Graph()\n",
    "nxg2.add_edges_from(edgeTuples2)\n",
    "print(f'Graph structure using networkx: {nxg2}')"
   ]
  },
  {
   "cell_type": "code",
   "execution_count": 817,
   "metadata": {},
   "outputs": [],
   "source": [
    "# To extract features from graph: #Degree of all vertices"
   ]
  },
  {
   "cell_type": "code",
   "execution_count": 818,
   "metadata": {},
   "outputs": [
    {
     "name": "stdout",
     "output_type": "stream",
     "text": [
      "Graph structure using iGraph: IGRAPH U--- 348 61 --\n",
      "+ edges:\n",
      "3--9 3--25 3--26 3--67 3--72 3--85 3--122 3--142 3--170 3--188 3--200 3--228\n",
      "3--274 3--280 3--283 3--323 4--78 4--152 4--181 4--195 4--218 4--273 4--275\n",
      "4--306 4--328 5--87 5--122 5--156 5--158 5--169 5--180 5--187 5--204 5--213\n",
      "5--235 5--315 5--316 6--89 6--95 6--147 6--219 6--319 7--22 7--31 7--38 7--65\n",
      "7--87 7--103 7--129 7--136 7--168 7--213 7--246 7--291 7--304 7--308 7--315\n",
      "7--322 7--339 7--340 7--347\n",
      "degrees of all vertices : [0, 0, 0, 16, 9, 12, 5, 19, 0, 1, 0, 0, 0, 0, 0, 0, 0, 0, 0, 0, 0, 0, 1, 0, 0, 1, 1, 0, 0, 0, 0, 1, 0, 0, 0, 0, 0, 0, 1, 0, 0, 0, 0, 0, 0, 0, 0, 0, 0, 0, 0, 0, 0, 0, 0, 0, 0, 0, 0, 0, 0, 0, 0, 0, 0, 1, 0, 1, 0, 0, 0, 0, 1, 0, 0, 0, 0, 0, 1, 0, 0, 0, 0, 0, 0, 1, 0, 2, 0, 1, 0, 0, 0, 0, 0, 1, 0, 0, 0, 0, 0, 0, 0, 1, 0, 0, 0, 0, 0, 0, 0, 0, 0, 0, 0, 0, 0, 0, 0, 0, 0, 0, 2, 0, 0, 0, 0, 0, 0, 1, 0, 0, 0, 0, 0, 0, 1, 0, 0, 0, 0, 0, 1, 0, 0, 0, 0, 1, 0, 0, 0, 0, 1, 0, 0, 0, 1, 0, 1, 0, 0, 0, 0, 0, 0, 0, 0, 0, 1, 1, 1, 0, 0, 0, 0, 0, 0, 0, 0, 0, 1, 1, 0, 0, 0, 0, 0, 1, 1, 0, 0, 0, 0, 0, 0, 1, 0, 0, 0, 0, 1, 0, 0, 0, 1, 0, 0, 0, 0, 0, 0, 0, 0, 2, 0, 0, 0, 0, 1, 1, 0, 0, 0, 0, 0, 0, 0, 0, 1, 0, 0, 0, 0, 0, 0, 1, 0, 0, 0, 0, 0, 0, 0, 0, 0, 0, 1, 0, 0, 0, 0, 0, 0, 0, 0, 0, 0, 0, 0, 0, 0, 0, 0, 0, 0, 0, 0, 0, 0, 0, 0, 0, 0, 1, 1, 1, 0, 0, 0, 0, 1, 0, 0, 1, 0, 0, 0, 0, 0, 0, 0, 1, 0, 0, 0, 0, 0, 0, 0, 0, 0, 0, 0, 0, 1, 0, 1, 0, 1, 0, 0, 0, 0, 0, 0, 2, 1, 0, 0, 1, 0, 0, 1, 1, 0, 0, 0, 0, 1, 0, 0, 0, 0, 0, 0, 0, 0, 0, 0, 1, 1, 0, 0, 0, 0, 0, 0, 1]\n",
      "max_degree_vertices: [igraph.Vertex(<igraph.Graph object at 0x7f84b2256140>, 7, {})]\n",
      "max degree: 19\n",
      "min_degree_vertex: igraph.Vertex(<igraph.Graph object at 0x7f84b2256140>, 0, {})\n"
     ]
    }
   ],
   "source": [
    "#create graph from tuples nodes selected in dataframe.\n",
    "g = ig.Graph(edges=edgeTuples)\n",
    "print(f'Graph structure using iGraph: {g}')\n",
    "\n",
    "#Degree of all vertices\n",
    "degrees = g.degree()\n",
    "print(f'degrees of all vertices : {degrees}')\n",
    "\n",
    "# Find the vertex with the maximum degree\n",
    "max_degree = max(g.degree())\n",
    "max_degree_vertices = [v for v in g.vs if g.degree(v) == max_degree]\n",
    "\n",
    "# Print the vertex with the maximum degree\n",
    "print(f'max_degree_vertices: {max_degree_vertices}')\n",
    "\n",
    "# Print the maximum degree\n",
    "print(f'max degree: {max_degree}')\n",
    "\n",
    "# Find the vertex with the minimum degree\n",
    "min_degree_vertex = g.vs[degrees.index(min(degrees))]\n",
    "\n",
    "# Print the vertex with the minimum degree\n",
    "print(f'min_degree_vertex: {min_degree_vertex}')\n",
    "\n",
    "\n",
    "\n",
    "\n",
    "\n"
   ]
  },
  {
   "cell_type": "code",
   "execution_count": 819,
   "metadata": {},
   "outputs": [],
   "source": [
    "# Calculate the number of nodes in neighbour"
   ]
  },
  {
   "cell_type": "code",
   "execution_count": 820,
   "metadata": {},
   "outputs": [
    {
     "name": "stdout",
     "output_type": "stream",
     "text": [
      "Neighborhood of node 3 within 2 hops: {3, 5}\n",
      "Neighborhood of node 4 within 2 hops: {4}\n",
      "Neighborhood of node 5 within 2 hops: {3, 5, 7}\n",
      "Neighborhood of node 6 within 2 hops: {6}\n",
      "Neighborhood of node 7 within 2 hops: {5, 7}\n"
     ]
    }
   ],
   "source": [
    "#number of nodes in a neighbour within 2 hops\n",
    "\n",
    "def get_neighborhood(graph, node):\n",
    "    neighbors = set(graph.neighbors(node))\n",
    "    two_hop_neighbors = set()\n",
    "    for neighbor in neighbors:\n",
    "        two_hop_neighbors.update(graph.neighbors(neighbor))\n",
    "    return two_hop_neighbors\n",
    "\n",
    "nodeSeries = df['Node1'].unique()\n",
    "for node in nodeSeries:\n",
    "    neighborhood = get_neighborhood(nxg, node)\n",
    "    print(\"Neighborhood of node\", node, \"within 2 hops:\", neighborhood)\n"
   ]
  },
  {
   "cell_type": "code",
   "execution_count": 821,
   "metadata": {},
   "outputs": [],
   "source": [
    "# Calculate local clustering coefficient and betweenness centrality"
   ]
  },
  {
   "cell_type": "code",
   "execution_count": 822,
   "metadata": {},
   "outputs": [
    {
     "name": "stdout",
     "output_type": "stream",
     "text": [
      "Node 3: Local Clustering Coefficient = 0\n",
      "Node 9: Local Clustering Coefficient = 0\n",
      "Node 25: Local Clustering Coefficient = 0\n",
      "Node 26: Local Clustering Coefficient = 0\n",
      "Node 67: Local Clustering Coefficient = 0\n",
      "Node 72: Local Clustering Coefficient = 0\n",
      "Node 85: Local Clustering Coefficient = 0\n",
      "Node 122: Local Clustering Coefficient = 0\n",
      "Node 142: Local Clustering Coefficient = 0\n",
      "Node 170: Local Clustering Coefficient = 0\n",
      "Node 188: Local Clustering Coefficient = 0\n",
      "Node 200: Local Clustering Coefficient = 0\n",
      "Node 228: Local Clustering Coefficient = 0\n",
      "Node 274: Local Clustering Coefficient = 0\n",
      "Node 280: Local Clustering Coefficient = 0\n",
      "Node 283: Local Clustering Coefficient = 0\n",
      "Node 323: Local Clustering Coefficient = 0\n",
      "Node 4: Local Clustering Coefficient = 0\n",
      "Node 78: Local Clustering Coefficient = 0\n",
      "Node 152: Local Clustering Coefficient = 0\n",
      "Node 181: Local Clustering Coefficient = 0\n",
      "Node 195: Local Clustering Coefficient = 0\n",
      "Node 218: Local Clustering Coefficient = 0\n",
      "Node 273: Local Clustering Coefficient = 0\n",
      "Node 275: Local Clustering Coefficient = 0\n",
      "Node 306: Local Clustering Coefficient = 0\n",
      "Node 328: Local Clustering Coefficient = 0\n",
      "Node 5: Local Clustering Coefficient = 0\n",
      "Node 87: Local Clustering Coefficient = 0\n",
      "Node 156: Local Clustering Coefficient = 0\n",
      "Node 158: Local Clustering Coefficient = 0\n",
      "Node 169: Local Clustering Coefficient = 0\n",
      "Node 180: Local Clustering Coefficient = 0\n",
      "Node 187: Local Clustering Coefficient = 0\n",
      "Node 204: Local Clustering Coefficient = 0\n",
      "Node 213: Local Clustering Coefficient = 0\n",
      "Node 235: Local Clustering Coefficient = 0\n",
      "Node 315: Local Clustering Coefficient = 0\n",
      "Node 316: Local Clustering Coefficient = 0\n",
      "Node 6: Local Clustering Coefficient = 0\n",
      "Node 89: Local Clustering Coefficient = 0\n",
      "Node 95: Local Clustering Coefficient = 0\n",
      "Node 147: Local Clustering Coefficient = 0\n",
      "Node 219: Local Clustering Coefficient = 0\n",
      "Node 319: Local Clustering Coefficient = 0\n",
      "Node 7: Local Clustering Coefficient = 0\n",
      "Node 22: Local Clustering Coefficient = 0\n",
      "Node 31: Local Clustering Coefficient = 0\n",
      "Node 38: Local Clustering Coefficient = 0\n",
      "Node 65: Local Clustering Coefficient = 0\n",
      "Node 103: Local Clustering Coefficient = 0\n",
      "Node 129: Local Clustering Coefficient = 0\n",
      "Node 136: Local Clustering Coefficient = 0\n",
      "Node 168: Local Clustering Coefficient = 0\n",
      "Node 246: Local Clustering Coefficient = 0\n",
      "Node 291: Local Clustering Coefficient = 0\n",
      "Node 304: Local Clustering Coefficient = 0\n",
      "Node 308: Local Clustering Coefficient = 0\n",
      "Node 322: Local Clustering Coefficient = 0\n",
      "Node 339: Local Clustering Coefficient = 0\n",
      "Node 340: Local Clustering Coefficient = 0\n",
      "Node 347: Local Clustering Coefficient = 0\n"
     ]
    }
   ],
   "source": [
    "# Compute local clustering coefficients\n",
    "local_clustering = nx.clustering(nxg)\n",
    "\n",
    "# Print the local clustering coefficient for each node\n",
    "for node, clustering_coefficient in local_clustering.items():\n",
    "    print(f\"Node {node}: Local Clustering Coefficient = {clustering_coefficient}\")\n"
   ]
  },
  {
   "cell_type": "code",
   "execution_count": 823,
   "metadata": {},
   "outputs": [],
   "source": [
    "#Compute eigenvector centrality. Eigenvector centrality is a graph theory metric that measures a node's influence\n",
    "#in a network. It's a centrality index that considers the centrality of a node's connections, not just the \n",
    "#number of connections it has"
   ]
  },
  {
   "cell_type": "code",
   "execution_count": 824,
   "metadata": {},
   "outputs": [
    {
     "name": "stdout",
     "output_type": "stream",
     "text": [
      "Node 3: Eigenvector Centrality  = 0.06054066179031181\n",
      "Node 9: Eigenvector Centrality  = 0.01349311087967083\n",
      "Node 25: Eigenvector Centrality  = 0.01349311087967083\n",
      "Node 26: Eigenvector Centrality  = 0.01349311087967083\n",
      "Node 67: Eigenvector Centrality  = 0.01349311087967083\n",
      "Node 72: Eigenvector Centrality  = 0.01349311087967083\n",
      "Node 85: Eigenvector Centrality  = 0.01349311087967083\n",
      "Node 122: Eigenvector Centrality  = 0.06924202395011056\n",
      "Node 142: Eigenvector Centrality  = 0.01349311087967083\n",
      "Node 170: Eigenvector Centrality  = 0.01349311087967083\n",
      "Node 188: Eigenvector Centrality  = 0.01349311087967083\n",
      "Node 200: Eigenvector Centrality  = 0.01349311087967083\n",
      "Node 228: Eigenvector Centrality  = 0.01349311087967083\n",
      "Node 274: Eigenvector Centrality  = 0.01349311087967083\n",
      "Node 280: Eigenvector Centrality  = 0.01349311087967083\n",
      "Node 283: Eigenvector Centrality  = 0.01349311087967083\n",
      "Node 323: Eigenvector Centrality  = 0.01349311087967083\n",
      "Node 4: Eigenvector Centrality  = 5.3112802927275804e-14\n",
      "Node 78: Eigenvector Centrality  = 1.7704267642425263e-14\n",
      "Node 152: Eigenvector Centrality  = 1.7704267642425263e-14\n",
      "Node 181: Eigenvector Centrality  = 1.7704267642425263e-14\n",
      "Node 195: Eigenvector Centrality  = 1.7704267642425263e-14\n",
      "Node 218: Eigenvector Centrality  = 1.7704267642425263e-14\n",
      "Node 273: Eigenvector Centrality  = 1.7704267642425263e-14\n",
      "Node 275: Eigenvector Centrality  = 1.7704267642425263e-14\n",
      "Node 306: Eigenvector Centrality  = 1.7704267642425263e-14\n",
      "Node 328: Eigenvector Centrality  = 1.7704267642425263e-14\n",
      "Node 5: Eigenvector Centrality  = 0.2501831980038018\n",
      "Node 87: Eigenvector Centrality  = 0.20250307841407472\n",
      "Node 156: Eigenvector Centrality  = 0.055748913070439735\n",
      "Node 158: Eigenvector Centrality  = 0.055748913070439735\n",
      "Node 169: Eigenvector Centrality  = 0.055748913070439735\n",
      "Node 180: Eigenvector Centrality  = 0.055748913070439735\n",
      "Node 187: Eigenvector Centrality  = 0.055748913070439735\n",
      "Node 204: Eigenvector Centrality  = 0.055748913070439735\n",
      "Node 213: Eigenvector Centrality  = 0.20250307841407472\n",
      "Node 235: Eigenvector Centrality  = 0.055748913070439735\n",
      "Node 315: Eigenvector Centrality  = 0.20250307841407472\n",
      "Node 316: Eigenvector Centrality  = 0.055748913070439735\n",
      "Node 6: Eigenvector Centrality  = 9.575808597699825e-23\n",
      "Node 89: Eigenvector Centrality  = 4.2824317927967494e-23\n",
      "Node 95: Eigenvector Centrality  = 4.2824317927967494e-23\n",
      "Node 147: Eigenvector Centrality  = 4.2824317927967494e-23\n",
      "Node 219: Eigenvector Centrality  = 4.2824317927967494e-23\n",
      "Node 319: Eigenvector Centrality  = 4.2824317927967494e-23\n",
      "Node 7: Eigenvector Centrality  = 0.6585918278467945\n",
      "Node 22: Eigenvector Centrality  = 0.14675416534363503\n",
      "Node 31: Eigenvector Centrality  = 0.14675416534363503\n",
      "Node 38: Eigenvector Centrality  = 0.14675416534363503\n",
      "Node 65: Eigenvector Centrality  = 0.14675416534363503\n",
      "Node 103: Eigenvector Centrality  = 0.14675416534363503\n",
      "Node 129: Eigenvector Centrality  = 0.14675416534363503\n",
      "Node 136: Eigenvector Centrality  = 0.14675416534363503\n",
      "Node 168: Eigenvector Centrality  = 0.14675416534363503\n",
      "Node 246: Eigenvector Centrality  = 0.14675416534363503\n",
      "Node 291: Eigenvector Centrality  = 0.14675416534363503\n",
      "Node 304: Eigenvector Centrality  = 0.14675416534363503\n",
      "Node 308: Eigenvector Centrality  = 0.14675416534363503\n",
      "Node 322: Eigenvector Centrality  = 0.14675416534363503\n",
      "Node 339: Eigenvector Centrality  = 0.14675416534363503\n",
      "Node 340: Eigenvector Centrality  = 0.14675416534363503\n",
      "Node 347: Eigenvector Centrality  = 0.14675416534363503\n"
     ]
    }
   ],
   "source": [
    "eigenvector_centrality = nx.eigenvector_centrality(nxg)\n",
    "\n",
    "# Print eigenvector_centrality for each node\n",
    "for node, eigenvector_centrality_item in eigenvector_centrality.items():\n",
    "    print(f\"Node {node}: Eigenvector Centrality  = {eigenvector_centrality_item}\")\n",
    "\n"
   ]
  },
  {
   "cell_type": "code",
   "execution_count": 825,
   "metadata": {},
   "outputs": [],
   "source": [
    "#betweenness centrality"
   ]
  },
  {
   "cell_type": "code",
   "execution_count": 826,
   "metadata": {},
   "outputs": [
    {
     "name": "stdout",
     "output_type": "stream",
     "text": [
      "Node 3: betweenness Centrality  = 0.30327868852459017\n",
      "Node 9: betweenness Centrality  = 0.0\n",
      "Node 25: betweenness Centrality  = 0.0\n",
      "Node 26: betweenness Centrality  = 0.0\n",
      "Node 67: betweenness Centrality  = 0.0\n",
      "Node 72: betweenness Centrality  = 0.0\n",
      "Node 85: betweenness Centrality  = 0.0\n",
      "Node 122: betweenness Centrality  = 0.253551912568306\n",
      "Node 142: betweenness Centrality  = 0.0\n",
      "Node 170: betweenness Centrality  = 0.0\n",
      "Node 188: betweenness Centrality  = 0.0\n",
      "Node 200: betweenness Centrality  = 0.0\n",
      "Node 228: betweenness Centrality  = 0.0\n",
      "Node 274: betweenness Centrality  = 0.0\n",
      "Node 280: betweenness Centrality  = 0.0\n",
      "Node 283: betweenness Centrality  = 0.0\n",
      "Node 323: betweenness Centrality  = 0.0\n",
      "Node 4: betweenness Centrality  = 0.019672131147540982\n",
      "Node 78: betweenness Centrality  = 0.0\n",
      "Node 152: betweenness Centrality  = 0.0\n",
      "Node 181: betweenness Centrality  = 0.0\n",
      "Node 195: betweenness Centrality  = 0.0\n",
      "Node 218: betweenness Centrality  = 0.0\n",
      "Node 273: betweenness Centrality  = 0.0\n",
      "Node 275: betweenness Centrality  = 0.0\n",
      "Node 306: betweenness Centrality  = 0.0\n",
      "Node 328: betweenness Centrality  = 0.0\n",
      "Node 5: betweenness Centrality  = 0.36366120218579234\n",
      "Node 87: betweenness Centrality  = 0.08051001821493624\n",
      "Node 156: betweenness Centrality  = 0.0\n",
      "Node 158: betweenness Centrality  = 0.0\n",
      "Node 169: betweenness Centrality  = 0.0\n",
      "Node 180: betweenness Centrality  = 0.0\n",
      "Node 187: betweenness Centrality  = 0.0\n",
      "Node 204: betweenness Centrality  = 0.0\n",
      "Node 213: betweenness Centrality  = 0.08051001821493624\n",
      "Node 235: betweenness Centrality  = 0.0\n",
      "Node 315: betweenness Centrality  = 0.08051001821493624\n",
      "Node 316: betweenness Centrality  = 0.0\n",
      "Node 6: betweenness Centrality  = 0.00546448087431694\n",
      "Node 89: betweenness Centrality  = 0.0\n",
      "Node 95: betweenness Centrality  = 0.0\n",
      "Node 147: betweenness Centrality  = 0.0\n",
      "Node 219: betweenness Centrality  = 0.0\n",
      "Node 319: betweenness Centrality  = 0.0\n",
      "Node 7: betweenness Centrality  = 0.31994535519125683\n",
      "Node 22: betweenness Centrality  = 0.0\n",
      "Node 31: betweenness Centrality  = 0.0\n",
      "Node 38: betweenness Centrality  = 0.0\n",
      "Node 65: betweenness Centrality  = 0.0\n",
      "Node 103: betweenness Centrality  = 0.0\n",
      "Node 129: betweenness Centrality  = 0.0\n",
      "Node 136: betweenness Centrality  = 0.0\n",
      "Node 168: betweenness Centrality  = 0.0\n",
      "Node 246: betweenness Centrality  = 0.0\n",
      "Node 291: betweenness Centrality  = 0.0\n",
      "Node 304: betweenness Centrality  = 0.0\n",
      "Node 308: betweenness Centrality  = 0.0\n",
      "Node 322: betweenness Centrality  = 0.0\n",
      "Node 339: betweenness Centrality  = 0.0\n",
      "Node 340: betweenness Centrality  = 0.0\n",
      "Node 347: betweenness Centrality  = 0.0\n"
     ]
    }
   ],
   "source": [
    "betweenness_centrality = nx.betweenness_centrality(nxg)\n",
    "\n",
    "# Print betweenness_centrality for each node\n",
    "for node, betweenness_centrality_item in betweenness_centrality.items():\n",
    "    print(f\"Node {node}: betweenness Centrality  = {betweenness_centrality_item}\")"
   ]
  },
  {
   "cell_type": "code",
   "execution_count": 827,
   "metadata": {},
   "outputs": [],
   "source": [
    "# Compute degree centrality"
   ]
  },
  {
   "cell_type": "code",
   "execution_count": null,
   "metadata": {},
   "outputs": [],
   "source": [
    "degree_centrality = nx.degree_centrality(nxg)\n",
    "\n",
    "# Print degree centrality for each node\n",
    "for node, centrality in degree_centrality.items():\n",
    "    print(f\"Node {node}: Degree Centrality = {centrality}\")"
   ]
  },
  {
   "cell_type": "code",
   "execution_count": null,
   "metadata": {},
   "outputs": [],
   "source": [
    "# Compute closeness centrality"
   ]
  },
  {
   "cell_type": "code",
   "execution_count": null,
   "metadata": {},
   "outputs": [],
   "source": [
    "closeness_centrality = nx.closeness_centrality(nxg)\n",
    "\n",
    "# Print closeness centrality for each node\n",
    "for node, centrality in closeness_centrality.items():\n",
    "    print(f\"Node {node}: Closeness Centrality = {centrality}\")"
   ]
  },
  {
   "cell_type": "code",
   "execution_count": null,
   "metadata": {},
   "outputs": [],
   "source": [
    "#Implementing Deepwalk using Node2Vec involves generating random walks on the graph and then training a SkipGram \n",
    "#model to learn node embeddings from the generated random walks. \n",
    "#Below is a Python implementation of Node2Vec using the Node2Vec class from the node2vec library:"
   ]
  },
  {
   "cell_type": "code",
   "execution_count": null,
   "metadata": {},
   "outputs": [],
   "source": [
    "import networkx as nx\n",
    "from node2vec import Node2Vec\n",
    "\n",
    "def node2vec_embedding(graph, dimensions=2, walk_length=80, num_walks=10, p=1, q=1, window=10, workers=1, iterations=1):\n",
    "    \"\"\"\n",
    "    Compute node embeddings using Node2Vec.\n",
    "\n",
    "    Parameters:\n",
    "        graph (nxg): The input graph.\n",
    "        dimensions (int): The dimensionality of the node embeddings.\n",
    "        walk_length (int): The length of each random walk.\n",
    "        num_walks (int): The number of random walks to generate for each node.\n",
    "        p (float): Return parameter (controls the likelihood of immediately revisiting a node in the walk).\n",
    "        q (float): In-out parameter (controls the likelihood of visiting a node that's closer or farther away from the current node in the walk).\n",
    "        window (int): The maximum distance between the current and predicted word within a sentence.\n",
    "        workers (int): The number of worker threads to train the model.\n",
    "        iterations (int): The number of iterations over the walks.\n",
    "\n",
    "    Returns:\n",
    "        dict: A dictionary mapping nodes to their embeddings.\n",
    "    \"\"\"\n",
    "    # Precompute probabilities and generate walks\n",
    "    node2vec = Node2Vec(graph, dimensions=dimensions, walk_length=walk_length, num_walks=num_walks, p=p, q=q, workers=workers)\n",
    "    model = node2vec.fit(window=window, min_count=1, batch_words=4)\n",
    "\n",
    "    # Create node embeddings dictionary\n",
    "    embeddings = {str(node): model.wv[str(node)] for node in graph.nodes()}\n",
    "\n",
    "    return embeddings\n",
    "\n",
    "# Compute node embeddings using Node2Vec\n",
    "embeddings = node2vec_embedding(nxg)\n",
    "\n",
    "# Print node embeddings\n",
    "for node, embedding in embeddings.items():\n",
    "    print(f\"Node {node}: {embedding}\")\n"
   ]
  },
  {
   "cell_type": "code",
   "execution_count": null,
   "metadata": {},
   "outputs": [],
   "source": [
    "# Compute PageRank\n",
    "pagerank = nx.pagerank(nxg)\n",
    "\n",
    "# Print PageRank scores\n",
    "for node, score in pagerank.items():\n",
    "    print(f\"Node {node}: PageRank  = {score:.4f}\")"
   ]
  },
  {
   "cell_type": "code",
   "execution_count": null,
   "metadata": {},
   "outputs": [],
   "source": [
    "# Calculate adjacency matrix\n",
    "#Adjacency matrix is a sparse matrix where “1” indicates that there is a connection between two nodes."
   ]
  },
  {
   "cell_type": "code",
   "execution_count": null,
   "metadata": {},
   "outputs": [],
   "source": [
    "adjacency_matrix = nx.adjacency_matrix(nxg).todense()\n",
    "print(f'Adjacency Matrix: {adjacency_matrix}')\n"
   ]
  },
  {
   "cell_type": "code",
   "execution_count": null,
   "metadata": {},
   "outputs": [],
   "source": [
    "# Calculate Laplacian matrix\n",
    "#The Laplacian matrix contains the same information about the connectivity as the adjacency matrix but in a slightly different way. It is simply defined as:\n",
    "#Laplacian matrix equation. L — Laplacian matrix, D — degree matrix, A — adjacency matrix\n",
    "#In this equation, L is the Laplacian matrix, D is the degree matrix, and A is the adjacency matrix. \n",
    "#The degree matrix is simply a diagonal matrix where each element on the diagonal represent how many neighbours \n",
    "#each node has.\n"
   ]
  },
  {
   "cell_type": "code",
   "execution_count": null,
   "metadata": {},
   "outputs": [],
   "source": [
    "laplacian_matrix = nx.laplacian_matrix(nxg).todense()\n",
    "print(f'Laplacian Matrix: {laplacian_matrix}')\n"
   ]
  },
  {
   "cell_type": "code",
   "execution_count": null,
   "metadata": {},
   "outputs": [],
   "source": [
    "#Bag of Nodes\n",
    "#It is not a single metric but rather a type. The idea behind it is quite simple — \n",
    "#we just aggregate node level features in some way [1]. For example, we can take a mean of node degrees, \n",
    "#or a histogram of the edge connections."
   ]
  },
  {
   "cell_type": "code",
   "execution_count": null,
   "metadata": {},
   "outputs": [],
   "source": [
    "import networkx as nx\n",
    "import numpy as np\n",
    "\n",
    "def bag_of_nodes_mean_degree(graph):\n",
    "    \"\"\"\n",
    "    Compute the Bag of Nodes representation by taking the mean of node degrees.\n",
    "\n",
    "    Parameters:\n",
    "        graph (nxg): The input graph.\n",
    "\n",
    "    Returns:\n",
    "        float: The mean degree of all nodes in the graph.\n",
    "    \"\"\"\n",
    "    degrees = [degree for node, degree in graph.degree()]\n",
    "    return np.mean(degrees)\n",
    "\n",
    "def bag_of_nodes_edge_histogram(graph):\n",
    "    \"\"\"\n",
    "    Compute the Bag of Nodes representation by computing a histogram of edge connections.\n",
    "\n",
    "    Parameters:\n",
    "        graph (nxg): The input graph.\n",
    "\n",
    "    Returns:\n",
    "        np.array: The histogram of edge connections.\n",
    "    \"\"\"\n",
    "    histogram = np.histogram(list(dict(graph.degree()).values()), bins=np.arange(0, max(dict(graph.degree()).values()) + 2))[0]\n",
    "    return histogram\n",
    "\n",
    "# Compute Bag of Nodes using mean degree\n",
    "mean_degree_representation = bag_of_nodes_mean_degree(nxg)\n",
    "print(\"Bag of Nodes Representation (Mean Degree):\", mean_degree_representation)\n",
    "\n",
    "# Compute Bag of Nodes using edge histogram\n",
    "edge_histogram_representation = bag_of_nodes_edge_histogram(nxg)\n",
    "print(\"Bag of Nodes Representation (Edge Histogram):\", edge_histogram_representation)\n"
   ]
  },
  {
   "cell_type": "code",
   "execution_count": null,
   "metadata": {},
   "outputs": [],
   "source": [
    "#Implement Graphlet Kernels\n",
    "#Counting all possible graphlets of size 3 from the graph"
   ]
  },
  {
   "cell_type": "code",
   "execution_count": null,
   "metadata": {},
   "outputs": [],
   "source": [
    "import networkx as nx\n",
    "import numpy as np\n",
    "\n",
    "def compute_graphlet_degree_vector(G, k):\n",
    "    \"\"\"\n",
    "    Compute the graphlet degree vector of a graph.\n",
    "\n",
    "    Parameters:\n",
    "        G (nxg): The input graph.\n",
    "        k (int): The size of graphlets (k <= 4).\n",
    "\n",
    "    Returns:\n",
    "        np.ndarray: The graphlet degree vector.\n",
    "    \"\"\"\n",
    "    n = len(G)\n",
    "    graphlet_degree_vector = np.zeros((1, 2**k), dtype=int)\n",
    "\n",
    "    for node in G.nodes():\n",
    "        neighbors = list(G.neighbors(node))\n",
    "        num_neighbors = len(neighbors)\n",
    "        \n",
    "        if k == 2:\n",
    "            for i in range(num_neighbors):\n",
    "                for j in range(i + 1, num_neighbors):\n",
    "                    u, v = neighbors[i], neighbors[j]\n",
    "                    if G.has_edge(u, v):\n",
    "                        index = int('0b' + '1' * (2**k), 2)\n",
    "                        graphlet_degree_vector[0][index] += 1\n",
    "        elif k == 3:\n",
    "            for i in range(num_neighbors):\n",
    "                for j in range(i + 1, num_neighbors):\n",
    "                    for l in range(j + 1, num_neighbors):\n",
    "                        u, v, w = neighbors[i], neighbors[j], neighbors[l]\n",
    "                        if G.has_edge(u, v) and G.has_edge(u, w) and G.has_edge(v, w):\n",
    "                            index = int('0b' + '1' * (2**k), 2)\n",
    "                            graphlet_degree_vector[0][index] += 1\n",
    "        elif k == 4:\n",
    "            for i in range(num_neighbors):\n",
    "                for j in range(i + 1, num_neighbors):\n",
    "                    for l in range(j + 1, num_neighbors):\n",
    "                        for m in range(l + 1, num_neighbors):\n",
    "                            u, v, w, x = neighbors[i], neighbors[j], neighbors[l], neighbors[m]\n",
    "                            if G.has_edge(u, v) and G.has_edge(u, w) and G.has_edge(u, x) and \\\n",
    "                               G.has_edge(v, w) and G.has_edge(v, x) and G.has_edge(w, x):\n",
    "                                index = int('0b' + '1' * (2**k), 2)\n",
    "                                graphlet_degree_vector[0][index] += 1\n",
    "\n",
    "    return graphlet_degree_vector / n\n",
    "\n",
    "def graphlet_kernel(G1, G2, k):\n",
    "    \"\"\"\n",
    "    Compute the Graphlet kernel between two graphs.\n",
    "\n",
    "    Parameters:\n",
    "        G1 (nxg): The first input graph.\n",
    "        G2 (nxg2): The second input graph.\n",
    "        k (int): The size of graphlets (k <= 4).\n",
    "\n",
    "    Returns:\n",
    "        float: The Graphlet kernel value.\n",
    "    \"\"\"\n",
    "    vector1 = compute_graphlet_degree_vector(G1, k)\n",
    "    vector2 = compute_graphlet_degree_vector(G2, k)\n",
    "\n",
    "    kernel_value = np.dot(vector1, vector2.T)\n",
    "\n",
    "    return kernel_value[0][0]\n",
    "\n",
    "# Compute the Graphlet kernel\n",
    "k = 3\n",
    "kernel_value = graphlet_kernel(nxg, nxg2, k)\n",
    "\n",
    "# Print the Graphlet kernel value\n",
    "print(f\"Graphlet Kernel Value (k={k}):\", kernel_value)\n"
   ]
  },
  {
   "cell_type": "code",
   "execution_count": null,
   "metadata": {},
   "outputs": [],
   "source": [
    "#Path-based kernels are a type of graph kernel that measure the similarity between graphs based on the \n",
    "#shared paths between nodes. One common approach is to compute the average or sum of the lengths of common \n",
    "#paths between all pairs of nodes in the graphs.\n"
   ]
  },
  {
   "cell_type": "code",
   "execution_count": null,
   "metadata": {},
   "outputs": [],
   "source": [
    "import networkx as nx\n",
    "\n",
    "def compute_paths(G):\n",
    "    \"\"\"\n",
    "    Compute the paths between all pairs of nodes in the graph \n",
    "\n",
    "    Parameters:\n",
    "        G (nxg): The input graph.\n",
    "\n",
    "    Returns:\n",
    "        dict: A dictionary containing the paths between all pairs of nodes.\n",
    "    \"\"\"\n",
    "    paths = {}\n",
    "    for node1 in G.nodes():\n",
    "        paths[node1] = {}\n",
    "        for node2 in G.nodes():\n",
    "            if node1 != node2:\n",
    "                try:\n",
    "                    path = nx.shortest_path(G, source=node1, target=node2)\n",
    "                    paths[node1][node2] = path\n",
    "                except nx.NetworkXNoPath:\n",
    "                    paths[node1][node2] = []\n",
    "    return paths\n",
    "\n",
    "def path_kernel(G1, G2):\n",
    "    \"\"\"\n",
    "    Compute the path-based kernel between two graphs.\n",
    "\n",
    "    Parameters:\n",
    "        G1 (nxg): The first input graph.\n",
    "        G2 (nxg): The second input graph.\n",
    "\n",
    "    Returns:\n",
    "        float: The path-based kernel value.\n",
    "    \"\"\"\n",
    "    paths1 = compute_paths(G1)\n",
    "    paths2 = compute_paths(G2)\n",
    "\n",
    "    common_paths = 0\n",
    "    for node1 in paths1:\n",
    "        for node2 in paths1[node1]:\n",
    "            if paths1[node1][node2] in paths2[node1].values():\n",
    "                common_paths += 1\n",
    "\n",
    "    kernel_value = common_paths / (len(G1) * len(G2))\n",
    "    return kernel_value\n",
    "\n",
    "# Compute the path-based kernel for all pairs of nodes within the same subset of the graph\n",
    "kernel_value = path_kernel(nxg, nxg)\n",
    "\n",
    "# Print the path-based kernel value\n",
    "print(\"Path-based Kernel Value:\", kernel_value)\n"
   ]
  },
  {
   "cell_type": "code",
   "execution_count": null,
   "metadata": {},
   "outputs": [],
   "source": [
    "#Neighbourhood Overlap Features - Local Overlap Measures\n",
    "#Sorensen index between node u and v. The numerator in this equation counts the common neighbours between those \n",
    "#nodes. Denominator is a normalization constant and is a sum of nodes’ degrees. Modified from [1]\n",
    "#The numerator term counts the common neighbours between those nodes. The denominator term (d_u + d_v)/2 is \n",
    "#an average of nodes’ degrees.\n"
   ]
  },
  {
   "cell_type": "code",
   "execution_count": null,
   "metadata": {},
   "outputs": [],
   "source": [
    "import networkx as nx\n",
    "\n",
    "def compute_sorenson_index(graph, node_u, node_v):\n",
    "    \"\"\"\n",
    "    Compute the Sorenson index between two nodes in a graph.\n",
    "\n",
    "    Parameters:\n",
    "        graph (nxg): The input graph.\n",
    "        node_u: The first node.\n",
    "        node_v: The second node.\n",
    "\n",
    "    Returns:\n",
    "        float: The Sorenson index between the neighborhoods of node_u and node_v.\n",
    "    \"\"\"\n",
    "    neighbors_u = set(graph.neighbors(node_u))\n",
    "    neighbors_v = set(graph.neighbors(node_v))\n",
    "\n",
    "    intersection_size = len(neighbors_u.intersection(neighbors_v))\n",
    "    union_size = len(neighbors_u) + len(neighbors_v)\n",
    "\n",
    "    if union_size == 0:\n",
    "        return 0\n",
    "    else:\n",
    "        sorenson_index = 2.0 * intersection_size / union_size\n",
    "        return sorenson_index\n",
    "\n",
    "# Compute the Sorenson index between nodes 1 and 4\n",
    "node_u = firstNode\n",
    "node_v = lastNode\n",
    "sorenson_index = compute_sorenson_index(nxg, node_u, node_v)\n",
    "\n",
    "# Print the Sorenson index\n",
    "print(f\"Sorenson index between nodes {node_u} and {node_v}: {sorenson_index}\")\n"
   ]
  },
  {
   "cell_type": "code",
   "execution_count": null,
   "metadata": {},
   "outputs": [],
   "source": [
    "#Apply DBSCAN clustering"
   ]
  },
  {
   "cell_type": "code",
   "execution_count": null,
   "metadata": {},
   "outputs": [],
   "source": [
    "from sklearn.cluster import DBSCAN\n",
    "import numpy as np\n",
    "import matplotlib.pyplot as plt\n",
    "\n",
    "# Calculate adjacency matrix\n",
    "adjacency_matrix = nx.adjacency_matrix(nxg).todense()\n",
    "\n",
    "# Convert adjacency matrix to numpy array\n",
    "adjacency_array = np.array(adjacency_matrix)\n",
    "\n",
    "# Apply DBSCAN clustering\n",
    "dbscan = DBSCAN(eps=0.4, min_samples=2)\n",
    "clusters = dbscan.fit_predict(adjacency_array)\n",
    "\n",
    "\n",
    "# Print the cluster assignments for each node\n",
    "for node, cluster in enumerate(clusters):\n",
    "    print(f\"Node {node}: Cluster = {cluster}\")\n"
   ]
  },
  {
   "cell_type": "code",
   "execution_count": null,
   "metadata": {},
   "outputs": [],
   "source": [
    "# Visualize the graph with colored clusters\n",
    "pos = nx.spring_layout(nxg,scale = 100000000000, iterations = 10)  # Layout for visualization\n",
    "#pos = nx.circular_layout(nxg, dim=2)  \n",
    "\n",
    "\n",
    "\n",
    "# Draw nodes with colors based on their cluster assignments\n",
    "nx.draw(nxg, pos, node_color=clusters, cmap=plt.cm.jet, with_labels=True)\n",
    "\n",
    "# Display the plot\n",
    "plt.show()"
   ]
  },
  {
   "cell_type": "code",
   "execution_count": null,
   "metadata": {},
   "outputs": [],
   "source": [
    "#BIRCH - BIRCH (Balanced Iterative Reducing and Clustering using Hierarchies) is a hierarchical clustering \n",
    "#algorithm that is suitable for clustering large datasets. \n",
    "\n",
    "#However, BIRCH is typically designed for numerical data and may not be directly applicable to graph data \n",
    "#represented by NetworkX.\n",
    "\n",
    "#To implement BIRCH clustering algorithm for graph data in 2D, we can extract 2D features from the graph nodes \n",
    "#and then apply BIRCH clustering on these features. In this example, we'll use the node coordinates as the 2D \n",
    "#features."
   ]
  },
  {
   "cell_type": "code",
   "execution_count": null,
   "metadata": {},
   "outputs": [],
   "source": [
    "import numpy as np\n",
    "import networkx as nx\n",
    "from sklearn.cluster import Birch\n",
    "\n",
    "def extract_2d_features(graph):\n",
    "    \"\"\"\n",
    "    Extract 2D features (node coordinates) from the nodes in the graph.\n",
    "\n",
    "    Parameters:\n",
    "        graph (nxg): The input graph.\n",
    "\n",
    "    Returns:\n",
    "        ndarray: Array of 2D features (node coordinates).\n",
    "    \"\"\"\n",
    "    nodes = list(graph.nodes())\n",
    "    features = [list(graph.nodes[node]['pos']) for node in nodes]  # Assuming 'pos' attribute contains 2D coordinates\n",
    "    return np.array(features)\n",
    "\n",
    "def birch_clustering_2d(graph, threshold=0.5, branching_factor=50, n_clusters=None):\n",
    "    \"\"\"\n",
    "    Perform BIRCH clustering on graph data with 2D features.\n",
    "\n",
    "    Parameters:\n",
    "        graph (nxg): The input graph.\n",
    "        threshold (float): The radius of the subcluster to be used as the criterion to merge two subclusters.\n",
    "        branching_factor (int): Maximum number of CF (Clustering Feature) entries in a single node.\n",
    "        n_clusters (int): The number of clusters to form.\n",
    "\n",
    "    Returns:\n",
    "        dict: A dictionary mapping nodes to their cluster labels.\n",
    "    \"\"\"\n",
    "    # Extract 2D features\n",
    "    features_2d = extract_2d_features(graph)\n",
    "\n",
    "    # Initialize and fit BIRCH clustering algorithm\n",
    "    birch = Birch(threshold=threshold, branching_factor=branching_factor, n_clusters=n_clusters)\n",
    "    birch.fit(features_2d)\n",
    "\n",
    "    # Retrieve cluster labels\n",
    "    cluster_labels = birch.labels_\n",
    "\n",
    "    # Create a dictionary mapping nodes to cluster labels\n",
    "    node_cluster_mapping = {list(graph.nodes())[i]: cluster_labels[i] for i in range(len(cluster_labels))}\n",
    "\n",
    "    return node_cluster_mapping\n",
    "\n",
    "# Set 2D node coordinates (replace this with your own node coordinates)\n",
    "for node in nxg.nodes():\n",
    "    nxg.nodes[node]['pos'] = np.random.rand(2) * 10  # Random 2D coordinates between [0, 10)\n",
    "\n",
    "# Perform BIRCH clustering with 2D features\n",
    "node_cluster_mapping = birch_clustering_2d(nxg)\n",
    "\n",
    "# Print node cluster assignments\n",
    "for node, cluster in node_cluster_mapping.items():\n",
    "    print(f\"Node {node}: Cluster {cluster}\")\n"
   ]
  },
  {
   "cell_type": "code",
   "execution_count": null,
   "metadata": {},
   "outputs": [],
   "source": [
    "#Optimizing KMeans using Silhouette Analysis\n",
    "#Demonstrating how to optimize the number of clusters (n_clusters) for KMeans using silhouette analysis:"
   ]
  },
  {
   "cell_type": "code",
   "execution_count": null,
   "metadata": {},
   "outputs": [],
   "source": [
    "from sklearn.cluster import KMeans\n",
    "from sklearn.metrics import silhouette_score\n",
    "\n",
    "\n",
    "# Generate sample data (replace this with your own data)\n",
    "X = np.random.rand(lastNode, 2)\n",
    "\n",
    "# Initialize empty lists to store silhouette scores\n",
    "silhouette_scores = []\n",
    "\n",
    "# Define range of n_clusters values to experiment with\n",
    "n_clusters_range = range(2, 5)\n",
    "\n",
    "# Iterate over n_clusters values\n",
    "for n_clusters in n_clusters_range:\n",
    "    kmeans = KMeans(n_clusters=n_clusters, random_state=42)\n",
    "    kmeans.n_init = 10\n",
    "    cluster_labels = kmeans.fit_predict(X)\n",
    "    silhouette_avg = silhouette_score(X, cluster_labels)\n",
    "    silhouette_scores.append(silhouette_avg)\n",
    "\n",
    "# Plot silhouette scores for different n_clusters values\n",
    "plt.figure(figsize=(10, 6))\n",
    "plt.plot(n_clusters_range, silhouette_scores, marker='o')\n",
    "plt.xlabel('Number of Clusters')\n",
    "plt.ylabel('Silhouette Score')\n",
    "plt.title('Silhouette Analysis for KMeans Clustering')\n",
    "plt.xticks(n_clusters_range)\n",
    "plt.grid(True)\n",
    "plt.show()\n",
    "\n",
    "# Find optimal number of clusters\n",
    "optimal_n_clusters = n_clusters_range[np.argmax(silhouette_scores)]\n",
    "print(f\"Optimal number of clusters: {optimal_n_clusters}\")\n"
   ]
  },
  {
   "cell_type": "code",
   "execution_count": null,
   "metadata": {},
   "outputs": [],
   "source": [
    "#To evaluate the clustering performance using metrics such as silhouette score, Calinski-Harabasz index, and Davies-Bouldin index, you can use scikit-learn, which provides implementations of these metrics. Here's how you can do it:"
   ]
  },
  {
   "cell_type": "code",
   "execution_count": null,
   "metadata": {},
   "outputs": [],
   "source": [
    "from sklearn.metrics import silhouette_score, calinski_harabasz_score, davies_bouldin_score\n",
    "from sklearn.cluster import KMeans\n",
    "\n",
    "# 3. Apply a clustering algorithm to the graph\n",
    "kmeans = KMeans(n_clusters=2)\n",
    "kmeans.n_init = 10\n",
    "labels = kmeans.fit_predict(adjacency_array)\n",
    "\n",
    "# 4. Compute clustering evaluation metrics\n",
    "silhouette = silhouette_score(adjacency_array, labels)\n",
    "calinski_harabasz = calinski_harabasz_score(adjacency_array, labels)\n",
    "davies_bouldin = davies_bouldin_score(adjacency_array, labels)\n",
    "\n",
    "# 5. Print the evaluation metrics\n",
    "print(f\"Silhouette Score: {silhouette}\")\n",
    "print(f\"Calinski-Harabasz Index: {calinski_harabasz}\")\n",
    "print(f\"Davies-Bouldin Index: {davies_bouldin}\")\n"
   ]
  },
  {
   "cell_type": "code",
   "execution_count": null,
   "metadata": {},
   "outputs": [],
   "source": [
    "#implement community detection algorithm"
   ]
  },
  {
   "cell_type": "code",
   "execution_count": 828,
   "metadata": {},
   "outputs": [
    {
     "data": {
      "image/png": "[encoded data removed]",
      "text/plain": [
       "<Figure size 1000x600 with 1 Axes>"
      ]
     },
     "metadata": {},
     "output_type": "display_data"
    },
    {
     "name": "stdout",
     "output_type": "stream",
     "text": [
      "Detected Communities:\n",
      "Community 1: [3, 9, 25, 26, 67, 72, 85, 142, 170, 188, 200, 228, 274, 280, 283, 323]\n",
      "Community 4: [122, 5, 87, 156, 158, 169, 180, 187, 204, 213, 235, 315, 316]\n",
      "Community 3: [4, 78, 152, 181, 195, 218, 273, 275, 306, 328]\n",
      "Community 0: [6, 89, 95, 147, 219, 319]\n",
      "Community 2: [7, 22, 31, 38, 65, 103, 129, 136, 168, 246, 291, 304, 308, 322, 339, 340, 347]\n"
     ]
    }
   ],
   "source": [
    "#!pip install python-louvain\n",
    "from community import community_louvain\n",
    "\n",
    "\n",
    "# Perform community detection using the Louvain method\n",
    "partition = community_louvain.best_partition(nxg)\n",
    "\n",
    "# Visualize the communities\n",
    "pos = nx.spring_layout(nxg)  # Position nodes using the spring layout algorithm\n",
    "\n",
    "plt.figure(figsize=(10, 6))\n",
    "nx.draw(nxg, pos, node_color=list(partition.values()), cmap=plt.cm.Set1, with_labels=True)\n",
    "plt.title('Louvain Method Community Detection')\n",
    "plt.show()\n",
    "\n",
    "# Analyze and print communities\n",
    "communities = {}\n",
    "for node, community_id in partition.items():\n",
    "    if community_id not in communities:\n",
    "        communities[community_id] = []\n",
    "    communities[community_id].append(node)\n",
    "\n",
    "print(\"Detected Communities:\")\n",
    "for community_id, nodes in communities.items():\n",
    "    print(f\"Community {community_id}: {nodes}\")\n"
   ]
  },
  {
   "cell_type": "code",
   "execution_count": null,
   "metadata": {},
   "outputs": [],
   "source": []
  }
 ],
 "metadata": {
  "colab": {
   "provenance": [],
   "toc_visible": true
  },
  "kernelspec": {
   "display_name": "Python 3 (ipykernel)",
   "language": "python",
   "name": "python3"
  },
  "language_info": {
   "codemirror_mode": {
    "name": "ipython",
    "version": 3
   },
   "file_extension": ".py",
   "mimetype": "text/x-python",
   "name": "python",
   "nbconvert_exporter": "python",
   "pygments_lexer": "ipython3",
   "version": "3.10.11"
  }
 },
 "nbformat": 4,
 "nbformat_minor": 1
}
